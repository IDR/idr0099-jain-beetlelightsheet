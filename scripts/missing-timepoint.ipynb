{
 "cells": [
  {
   "cell_type": "markdown",
   "metadata": {},
   "source": [
    "Create a placeholder for a missing timepoint"
   ]
  },
  {
   "cell_type": "code",
   "execution_count": 1,
   "metadata": {},
   "outputs": [],
   "source": [
    "import numpy as np\n",
    "import os\n",
    "import tifffile"
   ]
  },
  {
   "cell_type": "code",
   "execution_count": 2,
   "metadata": {},
   "outputs": [],
   "source": [
    "input = ('/uod/idr/filesets/idr0099-jain-beetlelightsheet/20201001-ftp/'\n",
    "         'Akanksha_Jain_22-06-16_Tc-Squash-eGFP/TP19_Ch0_Ill0_Ang1,2,3,4,5.tif')\n",
    "\n",
    "with tifffile.TiffFile(input) as tif:\n",
    "    indata = tif.asarray()\n",
    "    inmeta = tif.imagej_metadata\n",
    "\n",
    "outdata = indata.astype('uint16')\n",
    "outdata[:] = 0\n",
    "outmeta = inmeta.copy()\n",
    "outmeta['min'] = np.uint16(0)\n",
    "outmeta['max'] = np.uint16(0)\n",
    "\n",
    "outfile = os.path.expanduser(f'~/out/tp18_ch0_ill0_ang1,2,3,4,5.tif')\n",
    "tifffile.imsave(outfile, outdata, imagej=True, metadata=outmeta)"
   ]
  },
  {
   "cell_type": "code",
   "execution_count": null,
   "metadata": {},
   "outputs": [],
   "source": []
  }
 ],
 "metadata": {
  "kernelspec": {
   "display_name": "Python 3",
   "language": "python",
   "name": "python3"
  },
  "language_info": {
   "codemirror_mode": {
    "name": "ipython",
    "version": 3
   },
   "file_extension": ".py",
   "mimetype": "text/x-python",
   "name": "python",
   "nbconvert_exporter": "python",
   "pygments_lexer": "ipython3",
   "version": "3.8.5"
  }
 },
 "nbformat": 4,
 "nbformat_minor": 4
}
