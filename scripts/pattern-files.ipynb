{
 "cells": [
  {
   "cell_type": "markdown",
   "metadata": {},
   "source": [
    "https://www.biorxiv.org/content/10.1101/744193v3.full.pdf"
   ]
  },
  {
   "cell_type": "code",
   "execution_count": 1,
   "metadata": {},
   "outputs": [],
   "source": [
    "from itertools import chain\n",
    "import os\n",
    "import pandas as pd\n",
    "import re"
   ]
  },
  {
   "cell_type": "markdown",
   "metadata": {},
   "source": [
    "Open the list of all submitted files under `/uod/idr/filesets/idr0099-jain-beetlelightsheet/20201001-ftp`. Set rootdir to the relative path to `/uod/idr/filesets/idr0099-jain-beetlelightsheet` so that we can open the symlinks even when the `/uod/idr` symlink is not present, e.g. on a HPC cluster."
   ]
  },
  {
   "cell_type": "code",
   "execution_count": 2,
   "metadata": {},
   "outputs": [],
   "source": [
    "# Assumes pattern files are named\n",
    "# /uod/idr/filesets/idr0099-jain-beetlelightsheet/DATE-patterns/dataset/*.pattern\n",
    "rootdir = '../../'\n",
    "with open('idr0099-jain-beetlelightsheet-20201001-ftp.filelist.txt') as f:\n",
    "    filelist = f.read().splitlines()"
   ]
  },
  {
   "cell_type": "markdown",
   "metadata": {},
   "source": [
    "Get the list of unique parent directories"
   ]
  },
  {
   "cell_type": "code",
   "execution_count": 3,
   "metadata": {},
   "outputs": [
    {
     "data": {
      "text/plain": [
       "['20201001-ftp/Akanksha_Jain_16-4-15_LifeAct-eGFP',\n",
       " '20201001-ftp/Akanksha_Jain_22-06-16_Tc-Squash-eGFP',\n",
       " '20201001-ftp/Akanksha_Jain_4-3-15_nGFP',\n",
       " '20201001-ftp/Akanksha_Jain_8-6-19_ZenKD_GAP43-eYFP',\n",
       " '20201001-ftp/Akanksha_Jain_9-3-15_Histone-eGFP']"
      ]
     },
     "execution_count": 3,
     "metadata": {},
     "output_type": "execute_result"
    }
   ],
   "source": [
    "figuredirs = sorted(set(os.path.dirname(f) for f in filelist))\n",
    "figuredirs"
   ]
  },
  {
   "cell_type": "code",
   "execution_count": 4,
   "metadata": {},
   "outputs": [],
   "source": [
    "filelists = []\n",
    "for figdir in figuredirs:\n",
    "    filelists.append([os.path.basename(f) for f in filelist if f.startswith(f'{figdir}')])"
   ]
  },
  {
   "cell_type": "markdown",
   "metadata": {},
   "source": [
    "Split filename into tokens, check for variable components of the filename"
   ]
  },
  {
   "cell_type": "code",
   "execution_count": 5,
   "metadata": {},
   "outputs": [
    {
     "name": "stdout",
     "output_type": "stream",
     "text": [
      "20201001-ftp/Akanksha_Jain_16-4-15_LifeAct-eGFP (img_TL0.tif ...)\n",
      "  1 798/798, ['TL0' 'TL125' 'TL1' 'TL10' 'TL127']...\n",
      "20201001-ftp/Akanksha_Jain_22-06-16_Tc-Squash-eGFP (TP0_Ch0_Ill0_Ang1,2,3,4,5.tif ...)\n",
      "  0 212/212, ['TP0' 'TP133' 'TP100' 'TP135' 'TP101']...\n",
      "20201001-ftp/Akanksha_Jain_4-3-15_nGFP (TP0_Chgreen_Ill0_Ang0,1,2.tif ...)\n",
      "  0 527/527, ['TP0' 'TP11' 'TP100' 'TP120' 'TP101']...\n",
      "20201001-ftp/Akanksha_Jain_8-6-19_ZenKD_GAP43-eYFP (fused_tp_0_ch_0.tif ...)\n",
      "  2 142/142, ['0' '100' '101' '124' '102']...\n",
      "20201001-ftp/Akanksha_Jain_9-3-15_Histone-eGFP (TP0_Chgreen_Ill0_Ang0,1,2.tif ...)\n",
      "  0 539/539, ['TP0' 'TP122' 'TP100' 'TP123' 'TP101']...\n"
     ]
    }
   ],
   "source": [
    "def tokenise(s):\n",
    "    return re.split('[_,\\.]', s)\n",
    "\n",
    "for i, filelist in enumerate(filelists):\n",
    "    print(f'{figuredirs[i]} ({filelist[0]} ...)')\n",
    "    df = pd.DataFrame([tokenise(f) for f in filelist])\n",
    "    for name, col in df.iteritems():\n",
    "        unique = col.unique()\n",
    "        if len(unique) > 1:\n",
    "            print(f'  {name} {len(unique)}/{len(col)}, {unique[:5]}...')"
   ]
  },
  {
   "cell_type": "markdown",
   "metadata": {},
   "source": [
    "Based on this create pattern files for varying `T`: `0..N-1` and symlink the original files into the directory used for the pattern file. From https://docs.openmicroscopy.org/bio-formats/5.9.0/formats/pattern-file.html `8-6-19_ZenKD_GAP43-eYFP` which contains `tp_` will need to be renamed to remove the `_`:"
   ]
  },
  {
   "cell_type": "code",
   "execution_count": 6,
   "metadata": {},
   "outputs": [
    {
     "name": "stdout",
     "output_type": "stream",
     "text": [
      "img_TL0.tif img_tl<0-797>.tif img_TL.tif.pattern\n",
      "TP0_Ch0_Ill0_Ang1,2,3,4,5.tif tp<0-211>_ch0_ill0_ang1,2,3,4,5.tif TP_Ch0_Ill0_Ang1,2,3,4,5.tif.pattern\n",
      "TP0_Chgreen_Ill0_Ang0,1,2.tif tp<0-526>_chgreen_ill0_ang0,1,2.tif TP_Chgreen_Ill0_Ang0,1,2.tif.pattern\n",
      "fused_tp_0_ch_0.tif fused_tp<0-141>_ch_0.tif fused_tp_ch_0.tif.pattern\n",
      "TP0_Chgreen_Ill0_Ang0,1,2.tif tp<0-538>_chgreen_ill0_ang0,1,2.tif TP_Chgreen_Ill0_Ang0,1,2.tif.pattern\n"
     ]
    }
   ],
   "source": [
    "re_pat = re.compile(r'([Tt][LPp])_?(\\d+)')\n",
    "for i, filelist in enumerate(filelists):\n",
    "    f0 = filelist[0]\n",
    "    d = figuredirs[i][27:]\n",
    "    m = re_pat.search(f0)\n",
    "    assert m\n",
    "    pattern = re_pat.sub(f'\\\\1<0-{len(filelist) - 1}>', f0).lower()\n",
    "    pattern_file = re_pat.sub(r'\\1', f0) + '.pattern'\n",
    "    print(f0, pattern, pattern_file)\n",
    "    os.mkdir(d)\n",
    "    with open(os.path.join(d, pattern_file), 'w') as f:\n",
    "        f.write(pattern + '\\n')\n",
    "    for f in filelist:\n",
    "        src = os.path.join(rootdir, figuredirs[i], f)\n",
    "        dst = os.path.join(d, re_pat.sub(r'\\1\\2', f).lower())\n",
    "        os.symlink(src, dst)\n"
   ]
  },
  {
   "cell_type": "markdown",
   "metadata": {},
   "source": [
    "`22-06-16_Tc-Squash-eGFP/TP_Ch0_Ill0_Ang1,2,3,4,5.tif.pattern` needs a custom fix due to a missing file `Akanksha_Jain_22-06-16_Tc-Squash-eGFP/TP18_Ch0_Ill0_Ang1,2,3,4,5.tif`"
   ]
  },
  {
   "cell_type": "code",
   "execution_count": 7,
   "metadata": {},
   "outputs": [],
   "source": [
    "with open('22-06-16_Tc-Squash-eGFP/TP_Ch0_Ill0_Ang1,2,3,4,5.tif.pattern', 'r+') as f:\n",
    "    s = f.read()\n",
    "    f.seek(0)\n",
    "    ns = ','.join(str(n) for n in chain(range(18), range(19, 213)))\n",
    "    f.write(s.replace('<0-211>', f'<{ns}>'))\n",
    "    f.truncate()"
   ]
  }
 ],
 "metadata": {
  "kernelspec": {
   "display_name": "Python 3",
   "language": "python",
   "name": "python3"
  },
  "language_info": {
   "codemirror_mode": {
    "name": "ipython",
    "version": 3
   },
   "file_extension": ".py",
   "mimetype": "text/x-python",
   "name": "python",
   "nbconvert_exporter": "python",
   "pygments_lexer": "ipython3",
   "version": "3.8.5"
  }
 },
 "nbformat": 4,
 "nbformat_minor": 4
}
