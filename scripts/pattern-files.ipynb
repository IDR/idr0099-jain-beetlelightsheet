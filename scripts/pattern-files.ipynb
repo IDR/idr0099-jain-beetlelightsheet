{
 "cells": [
  {
   "cell_type": "code",
   "execution_count": 1,
   "metadata": {},
   "outputs": [],
   "source": [
    "import os\n",
    "import pandas as pd\n",
    "import re"
   ]
  },
  {
   "cell_type": "markdown",
   "metadata": {},
   "source": [
    "Open the list of all submitted under `/uod/idr/filesets/idr0099-jain-beetlelightsheet/20201001-ftp`"
   ]
  },
  {
   "cell_type": "code",
   "execution_count": 2,
   "metadata": {},
   "outputs": [],
   "source": [
    "rootdir = '/uod/idr/filesets/idr0099-jain-beetlelightsheet'\n",
    "with open('idr0099-jain-beetlelightsheet-20201001-ftp.filelist.txt') as f:\n",
    "    filelist = f.read().splitlines()"
   ]
  },
  {
   "cell_type": "markdown",
   "metadata": {},
   "source": [
    "Get the list of unique parent directories"
   ]
  },
  {
   "cell_type": "code",
   "execution_count": 3,
   "metadata": {},
   "outputs": [
    {
     "data": {
      "text/plain": [
       "{'20201001-ftp/Akanksha_Jain_16-4-15_LifeAct-eGFP',\n",
       " '20201001-ftp/Akanksha_Jain_22-06-16_Tc-Squash-eGFP',\n",
       " '20201001-ftp/Akanksha_Jain_4-3-15_nGFP',\n",
       " '20201001-ftp/Akanksha_Jain_8-6-19_ZenKD_GAP43-eYFP',\n",
       " '20201001-ftp/Akanksha_Jain_9-3-15_Histone-eGFP'}"
      ]
     },
     "execution_count": 3,
     "metadata": {},
     "output_type": "execute_result"
    }
   ],
   "source": [
    "set(os.path.dirname(f) for f in filelist)"
   ]
  },
  {
   "cell_type": "markdown",
   "metadata": {},
   "source": [
    "With reference to the preprint https://www.biorxiv.org/content/10.1101/744193v3.full.pdf this is the mapping of directories to published figures:\n",
    "\n",
    "- `Akanksha_Jain_4-3-15_nGFP`: Figure 1: Inhomogeneous tissue expansion during Triboliumserosa morphogenesis.\n",
    "- `Akanksha_Jain_9-3-15_Histone-eGFP`: Figure 2: Cell behaviors at the ventral leading edge of the serosa window are distinct from 508the behaviors in dorsal serosa.\n",
    "- `Akanksha_Jain_16-4-15_LifeAct-eGFP`: Figure 3: Tension landscape in the expanding serosa\n",
    "- `Akanksha_Jain_22-06-16_Tc-Squash-eGFP`: Figure 4: Emergence of a heterogeneous actomyosin cable at the serosa-embryonic boundary promotes cell eviction during serosa window closure.\n",
    "- `Akanksha_Jain_8-6-19_ZenKD_GAP43-eYFP`: Figure5: Cell and tissue dynamics in Tc-zen1 knockdown embryos"
   ]
  },
  {
   "cell_type": "code",
   "execution_count": 4,
   "metadata": {},
   "outputs": [],
   "source": [
    "figuredirs = [\n",
    "    '20201001-ftp/Akanksha_Jain_4-3-15_nGFP',\n",
    "    '20201001-ftp/Akanksha_Jain_9-3-15_Histone-eGFP',\n",
    "    '20201001-ftp/Akanksha_Jain_16-4-15_LifeAct-eGFP',\n",
    "    '20201001-ftp/Akanksha_Jain_22-06-16_Tc-Squash-eGFP',\n",
    "    '20201001-ftp/Akanksha_Jain_8-6-19_ZenKD_GAP43-eYFP',\n",
    "]\n",
    "filelists = []\n",
    "for figdir in figuredirs:\n",
    "    filelists.append([os.path.basename(f) for f in filelist if f.startswith(f'{figdir}')])"
   ]
  },
  {
   "cell_type": "markdown",
   "metadata": {},
   "source": [
    "Split filename into tokens, check for variable components of the filename"
   ]
  },
  {
   "cell_type": "code",
   "execution_count": 5,
   "metadata": {},
   "outputs": [
    {
     "name": "stdout",
     "output_type": "stream",
     "text": [
      "20201001-ftp/Akanksha_Jain_4-3-15_nGFP (TP0_Chgreen_Ill0_Ang0,1,2.tif ...)\n",
      "  0 527/527, ['TP0' 'TP11' 'TP100' 'TP120' 'TP101']...\n",
      "20201001-ftp/Akanksha_Jain_9-3-15_Histone-eGFP (TP0_Chgreen_Ill0_Ang0,1,2.tif ...)\n",
      "  0 539/539, ['TP0' 'TP122' 'TP100' 'TP123' 'TP101']...\n",
      "20201001-ftp/Akanksha_Jain_16-4-15_LifeAct-eGFP (img_TL0.tif ...)\n",
      "  1 798/798, ['TL0' 'TL125' 'TL1' 'TL10' 'TL127']...\n",
      "20201001-ftp/Akanksha_Jain_22-06-16_Tc-Squash-eGFP (TP0_Ch0_Ill0_Ang1,2,3,4,5.tif ...)\n",
      "  0 212/212, ['TP0' 'TP133' 'TP100' 'TP135' 'TP101']...\n",
      "20201001-ftp/Akanksha_Jain_8-6-19_ZenKD_GAP43-eYFP (fused_tp_0_ch_0.tif ...)\n",
      "  2 142/142, ['0' '100' '101' '124' '102']...\n"
     ]
    }
   ],
   "source": [
    "def tokenise(s):\n",
    "    return re.split('[_,\\.]', s)\n",
    "\n",
    "for i, filelist in enumerate(filelists):\n",
    "    print(f'{figuredirs[i]} ({filelist[0]} ...)')\n",
    "    df = pd.DataFrame([tokenise(f) for f in filelist])\n",
    "    for name, col in df.iteritems():\n",
    "        unique = col.unique()\n",
    "        if len(unique) > 1:\n",
    "            print(f'  {name} {len(unique)}/{len(col)}, {unique[:5]}...')\n",
    "# tokenised_filelists = [pd.DataFrame([tokenise(f) for f in filelist]) for filelist in filelists]"
   ]
  },
  {
   "cell_type": "markdown",
   "metadata": {},
   "source": [
    "Based on this create pattern files for varying `T`: `0..N-1` and symlink the original files into the directory used for the pattern file. From https://docs.openmicroscopy.org/bio-formats/5.9.0/formats/pattern-file.html Figure 5 which contains `tp_` will need to be renamed to remove the `_`:"
   ]
  },
  {
   "cell_type": "code",
   "execution_count": 6,
   "metadata": {},
   "outputs": [
    {
     "name": "stdout",
     "output_type": "stream",
     "text": [
      "TP0_Chgreen_Ill0_Ang0,1,2.tif tp<0,527>_chgreen_ill0_ang0,1,2.tif TP_Chgreen_Ill0_Ang0,1,2.tif.pattern\n",
      "TP0_Chgreen_Ill0_Ang0,1,2.tif tp<0,539>_chgreen_ill0_ang0,1,2.tif TP_Chgreen_Ill0_Ang0,1,2.tif.pattern\n",
      "img_TL0.tif img_tl<0,798>.tif img_TL.tif.pattern\n",
      "TP0_Ch0_Ill0_Ang1,2,3,4,5.tif tp<0,212>_ch0_ill0_ang1,2,3,4,5.tif TP_Ch0_Ill0_Ang1,2,3,4,5.tif.pattern\n",
      "fused_tp_0_ch_0.tif fused_tp<0,142>_ch_0.tif fused_tp_ch_0.tif.pattern\n"
     ]
    }
   ],
   "source": [
    "re_pat = re.compile(r'([Tt][LPp])_?(\\d+)')\n",
    "for i, filelist in enumerate(filelists):\n",
    "    f0 = filelist[0]\n",
    "    d = f'Figure_{i + 1}'\n",
    "    m = re_pat.search(f0)\n",
    "    assert m\n",
    "    pattern = re_pat.sub(f'\\\\1<0,{len(filelist)}>', f0).lower()\n",
    "    pattern_file = re_pat.sub(r'\\1', f0) + '.pattern'\n",
    "    print(f0, pattern, pattern_file)\n",
    "    os.mkdir(d)\n",
    "    with open(os.path.join(d, pattern_file), 'w') as f:\n",
    "        f.write(pattern + '\\n')\n",
    "    for f in filelist:\n",
    "        src = os.path.join(rootdir, figuredirs[i], f)\n",
    "        dst = os.path.join(d, re_pat.sub(r'\\1\\2', f))\n",
    "        os.symlink(src, dst)\n"
   ]
  },
  {
   "cell_type": "code",
   "execution_count": null,
   "metadata": {},
   "outputs": [],
   "source": []
  }
 ],
 "metadata": {
  "kernelspec": {
   "display_name": "Python 3",
   "language": "python",
   "name": "python3"
  },
  "language_info": {
   "codemirror_mode": {
    "name": "ipython",
    "version": 3
   },
   "file_extension": ".py",
   "mimetype": "text/x-python",
   "name": "python",
   "nbconvert_exporter": "python",
   "pygments_lexer": "ipython3",
   "version": "3.8.5"
  }
 },
 "nbformat": 4,
 "nbformat_minor": 4
}
