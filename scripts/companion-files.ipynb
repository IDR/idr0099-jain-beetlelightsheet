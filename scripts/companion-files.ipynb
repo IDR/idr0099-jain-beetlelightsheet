{
 "cells": [
  {
   "cell_type": "markdown",
   "metadata": {},
   "source": [
    "# Create companion files and symlinks"
   ]
  },
  {
   "cell_type": "code",
   "execution_count": 1,
   "metadata": {},
   "outputs": [],
   "source": [
    "from ome_model import experimental as ome\n",
    "import os\n",
    "import tifffile"
   ]
  },
  {
   "cell_type": "code",
   "execution_count": 2,
   "metadata": {},
   "outputs": [],
   "source": [
    "def create_companion(file_template, name, outdir, maxindex):\n",
    "    os.makedirs(outdir, exist_ok=True)\n",
    "    outpath = f'{outdir}/{name}.companion.ome'\n",
    "    if os.path.isfile(outpath):\n",
    "        print(f'{outpath} already exists, not overwriting')\n",
    "        return\n",
    "\n",
    "    for index in range(maxindex + 1):\n",
    "        tif = file_template.format(index=index)\n",
    "        tifbase = os.path.basename(tif)\n",
    "        tiflink = f'{outdir}/{tifbase}'\n",
    "\n",
    "        if not os.path.islink(tiflink):\n",
    "            os.symlink(tif, tiflink)\n",
    "\n",
    "        with tifffile.TiffFile(tif) as t:\n",
    "            assert len(t.series) == 1\n",
    "            s = t.series[0]\n",
    "            assert s.axes == 'ZYX'\n",
    "            t = index\n",
    "            if index == 0:\n",
    "                z, y, x = s.shape\n",
    "                dt = str(s.dtype)\n",
    "                companion = ome.Image(\n",
    "                    os.path.basename(name), x, y, z, 1, sizeT=(maxindex + 1),\n",
    "                    order='XYZCT', type=dt)\n",
    "                companion.add_channel(samplesPerPixel=1)\n",
    "            else:\n",
    "                assert s.shape == (z, y, x)\n",
    "                assert str(s.dtype) == dt, (tif, index, dt)\n",
    "            companion.add_tiff(os.path.basename(tif), t=t, planeCount=z)\n",
    "    with open(outpath, 'wb') as o:\n",
    "        ome.create_companion(images=[companion], out=o)"
   ]
  },
  {
   "cell_type": "code",
   "execution_count": 3,
   "metadata": {},
   "outputs": [
    {
     "name": "stdout",
     "output_type": "stream",
     "text": [
      "('16-4-15_LifeAct-eGFP', 'img_TL{index}.tif', 'img_TL', 797)\n",
      "('4-3-15_nGFP', 'TP{index}_Chgreen_Ill0_Ang0,1,2.tif', 'TP_Chgreen_Ill0_Ang0,1,2', 526)\n",
      "('8-6-19_ZenKD_GAP43-eYFP', 'fused_tp_{index}_ch_0.tif', 'fused_tp_ch_0', 141)\n",
      "('9-3-15_Histone-eGFP', 'TP{index}_Chgreen_Ill0_Ang0,1,2.tif', 'TP_Chgreen_Ill0_Ang0,1,2', 538)\n"
     ]
    }
   ],
   "source": [
    "parentdir = '/uod/idr/filesets/idr0099-jain-beetlelightsheet/20201001-ftp'\n",
    "args = [\n",
    "    ('16-4-15_LifeAct-eGFP', 'img_TL{index}.tif', 'img_TL', 797),\n",
    "#     ('22-06-16_Tc-Squash-eGFP', 'TP{index}_Ch0_Ill0_Ang1,2,3,4,5.tif', 'TP_Ch0_Ill0_Ang1,2,3,4,5.tif', 212),\n",
    "    ('4-3-15_nGFP', 'TP{index}_Chgreen_Ill0_Ang0,1,2.tif', 'TP_Chgreen_Ill0_Ang0,1,2', 526),\n",
    "    ('8-6-19_ZenKD_GAP43-eYFP', 'fused_tp_{index}_ch_0.tif', 'fused_tp_ch_0', 141),\n",
    "    ('9-3-15_Histone-eGFP', 'TP{index}_Chgreen_Ill0_Ang0,1,2.tif', 'TP_Chgreen_Ill0_Ang0,1,2', 538),\n",
    "]\n",
    "for a in args:\n",
    "    print(a)\n",
    "    create_companion(f'{parentdir}/Akanksha_Jain_{a[0]}/{a[1]}', a[2], f'companions/{a[0]}', a[3])"
   ]
  },
  {
   "cell_type": "code",
   "execution_count": null,
   "metadata": {},
   "outputs": [],
   "source": []
  }
 ],
 "metadata": {
  "kernelspec": {
   "display_name": "Python 3",
   "language": "python",
   "name": "python3"
  },
  "language_info": {
   "codemirror_mode": {
    "name": "ipython",
    "version": 3
   },
   "file_extension": ".py",
   "mimetype": "text/x-python",
   "name": "python",
   "nbconvert_exporter": "python",
   "pygments_lexer": "ipython3",
   "version": "3.8.5"
  }
 },
 "nbformat": 4,
 "nbformat_minor": 4
}
