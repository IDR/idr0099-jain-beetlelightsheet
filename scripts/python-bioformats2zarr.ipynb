{
 "cells": [
  {
   "cell_type": "markdown",
   "metadata": {},
   "source": [
    "Convert TIFFs to Zarr\n",
    "https://pythonhosted.org/python-bioformats/#reading-images"
   ]
  },
  {
   "cell_type": "code",
   "execution_count": null,
   "metadata": {},
   "outputs": [],
   "source": [
    "import math\n",
    "import numpy as np\n",
    "import os\n",
    "import sys\n",
    "import xmltodict\n",
    "from zarr.hierarchy import open_group\n",
    "\n",
    "import javabridge\n",
    "import bioformats\n",
    "from omero_zarr import raw_pixels"
   ]
  },
  {
   "cell_type": "code",
   "execution_count": null,
   "metadata": {},
   "outputs": [],
   "source": [
    "javabridge.start_vm(class_path=bioformats.JARS)\n",
    "# Reduce logging (default is DEBUG)\n",
    "# https://forum.image.sc/t/python-bioformats-and-javabridge-debug-messages/12578/12\n",
    "log_level = 'INFO'\n",
    "rootLoggerName = javabridge.get_static_field(\"org/slf4j/Logger\", \"ROOT_LOGGER_NAME\", \"Ljava/lang/String;\")\n",
    "rootLogger = javabridge.static_call(\"org/slf4j/LoggerFactory\", \"getLogger\", \"(Ljava/lang/String;)Lorg/slf4j/Logger;\", rootLoggerName)\n",
    "logLevel = javabridge.get_static_field(\"ch/qos/logback/classic/Level\", log_level, \"Lch/qos/logback/classic/Level;\")\n",
    "javabridge.call(rootLogger, \"setLevel\", \"(Lch/qos/logback/classic/Level;)V\", logLevel)"
   ]
  },
  {
   "cell_type": "code",
   "execution_count": null,
   "metadata": {},
   "outputs": [],
   "source": [
    "dataset = '22-06-16_Tc-Squash-eGFP'\n",
    "image_template = 'TP{index}_Ch0_Ill0_Ang1,2,3,4,5.tif'\n",
    "maxindex = 212\n",
    "idr_fileset_dir = '/uod/idr/filesets'\n",
    "filepath = f'{idr_fileset_dir}/idr0099-jain-beetlelightsheet/20201001-ftp/Akanksha_Jain_{dataset}/{image_template}'\n",
    "\n",
    "out_dtype = np.uint16\n",
    "out_dir = os.path.expandvars('tmp/${USER}/python-bioformats2zarr/' + dataset)"
   ]
  },
  {
   "cell_type": "markdown",
   "metadata": {},
   "source": [
    "Get dimensions from the first image"
   ]
  },
  {
   "cell_type": "code",
   "execution_count": null,
   "metadata": {},
   "outputs": [],
   "source": [
    "f = filepath.format(index=0)\n",
    "m = xmltodict.parse(bioformats.get_omexml_metadata(f))\n",
    "p = bioformats.load_image(f, c=0, z=0, t=0, rescale=False)\n",
    "[size_x, size_y, size_z, size_c, size_t] = [\n",
    "    int(m['OME']['Image']['Pixels'][f'@Size{f}']) for f in 'XYZCT']\n",
    "dtype = m['OME']['Image']['Pixels']['@Type']\n",
    "print([size_x, size_y, size_z, size_c, size_t], dtype)"
   ]
  },
  {
   "cell_type": "code",
   "execution_count": null,
   "metadata": {},
   "outputs": [],
   "source": [
    "zct_list = []\n",
    "size_t = maxindex + 1\n",
    "# Keep going until largest dimension is in [96,192)\n",
    "# https://github.com/ome/omero-cli-zarr/blob/a4339028a69cabc4f9fd214ad4c868ff72781e8d/src/omero_zarr/raw_pixels.py#L74\n",
    "level_count = int(math.log2((max(size_x, size_y, 96) - 1) / 96)) + 1\n",
    "\n",
    "# For testing convert just the first few z/t\n",
    "# size_t = 20\n",
    "# size_z = 10\n",
    "def plane_generator():\n",
    "    for t in range(size_t):\n",
    "        f = filepath.format(index=t)\n",
    "        sys.stdout.write(f'{f}\\n')\n",
    "        for c in range(size_c):\n",
    "            for z in range(size_z):\n",
    "                if os.path.exists(f):\n",
    "                    p = bioformats.load_image(f, c=c, z=z, t=0, rescale=False)\n",
    "                    yield p.astype(out_dtype)\n",
    "                else:\n",
    "                    yield None"
   ]
  },
  {
   "cell_type": "code",
   "execution_count": null,
   "metadata": {},
   "outputs": [],
   "source": [
    "os.makedirs(os.path.dirname(out_dir), mode=511, exist_ok=True)\n",
    "root = open_group(out_dir, mode='w')\n",
    "levels = raw_pixels.add_raw_image(\n",
    "    planes=plane_generator(),\n",
    "    size_x=size_x,\n",
    "    size_y=size_y,\n",
    "    size_z=size_z,\n",
    "    size_c=size_c,\n",
    "    size_t=size_t,\n",
    "    level_count=level_count,\n",
    "    d_type=out_dtype,\n",
    "    parent=root)\n",
    "print(f'Levels: {levels}')\n",
    "raw_pixels.add_group_metadata(root, None, levels)\n"
   ]
  },
  {
   "cell_type": "code",
   "execution_count": null,
   "metadata": {},
   "outputs": [],
   "source": [
    "print('Finished!')"
   ]
  },
  {
   "cell_type": "code",
   "execution_count": null,
   "metadata": {},
   "outputs": [],
   "source": [
    "javabridge.kill_vm()"
   ]
  },
  {
   "cell_type": "code",
   "execution_count": null,
   "metadata": {},
   "outputs": [],
   "source": []
  }
 ],
 "metadata": {
  "kernelspec": {
   "display_name": "Python (tmp)",
   "language": "python",
   "name": "tmp"
  },
  "language_info": {
   "codemirror_mode": {
    "name": "ipython",
    "version": 3
   },
   "file_extension": ".py",
   "mimetype": "text/x-python",
   "name": "python",
   "nbconvert_exporter": "python",
   "pygments_lexer": "ipython3",
   "version": "3.7.9"
  }
 },
 "nbformat": 4,
 "nbformat_minor": 4
}
