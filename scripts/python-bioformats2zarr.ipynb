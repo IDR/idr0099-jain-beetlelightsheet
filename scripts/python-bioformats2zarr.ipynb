{
 "cells": [
  {
   "cell_type": "markdown",
   "metadata": {},
   "source": [
    "Convert TIFFs to Zarr\n",
    "https://pythonhosted.org/python-bioformats/#reading-images"
   ]
  },
  {
   "cell_type": "code",
   "execution_count": null,
   "metadata": {},
   "outputs": [],
   "source": [
    "import math\n",
    "import numpy as np\n",
    "import os\n",
    "import sys\n",
    "import xmltodict\n",
    "from zarr.hierarchy import open_group\n",
    "\n",
    "import javabridge\n",
    "import bioformats\n",
    "from omero_zarr import raw_pixels\n",
    "\n",
    "javabridge.start_vm(class_path=bioformats.JARS)"
   ]
  },
  {
   "cell_type": "code",
   "execution_count": null,
   "metadata": {},
   "outputs": [],
   "source": [
    "filepath = ('/uod/idr/filesets/idr0099-jain-beetlelightsheet/20201001-ftp/'\n",
    "            'Akanksha_Jain_22-06-16_Tc-Squash-eGFP/TP{index}_Ch0_Ill0_Ang1,2,3,4,5.tif')\n",
    "maxindex = 212\n",
    "dtype = np.uint16"
   ]
  },
  {
   "cell_type": "markdown",
   "metadata": {},
   "source": [
    "Get dimensions from the first image"
   ]
  },
  {
   "cell_type": "code",
   "execution_count": null,
   "metadata": {},
   "outputs": [],
   "source": [
    "f = filepath.format(index=0)\n",
    "m = xmltodict.parse(bioformats.get_omexml_metadata(f))\n",
    "p = bioformats.load_image(f, c=0, z=0, t=0, rescale=False)\n",
    "[size_x, size_y, size_z, size_c, size_t] = [\n",
    "    int(m['OME']['Image']['Pixels'][f'@Size{f}']) for f in 'XYZCT']\n",
    "dtype = m['OME']['Image']['Pixels']['@Type']\n",
    "print([size_x, size_y, size_z, size_c, size_t], dtype)"
   ]
  },
  {
   "cell_type": "code",
   "execution_count": null,
   "metadata": {},
   "outputs": [],
   "source": [
    "zct_list = []\n",
    "size_t = maxindex + 1\n",
    "# Keep going until smallest dimension is in [96,192)\n",
    "level_count = int(math.log2((max(size_x, size_y, 96) - 1) / 96)) + 1\n",
    "\n",
    "def plane_generator():\n",
    "    for t in range(size_t):\n",
    "        f = filepath.format(index=t)\n",
    "        sys.stdout.write(f'{f}\\n')\n",
    "        for c in range(size_c):\n",
    "            for z in range(size_z):\n",
    "                if os.path.exists(f):\n",
    "                    p = bioformats.load_image(f, c=c, z=z, t=0, rescale=False)\n",
    "                    yield p.astype(dtype)\n",
    "                else:\n",
    "                    yield None"
   ]
  },
  {
   "cell_type": "code",
   "execution_count": null,
   "metadata": {},
   "outputs": [],
   "source": [
    "root = open_group('22-06-16_Tc-Squash-eGFP', mode='w')\n",
    "levels = raw_pixels.add_raw_image(\n",
    "    planes=plane_generator(),\n",
    "    size_x=size_x,\n",
    "    size_y=size_y,\n",
    "    size_z=size_z,\n",
    "    size_c=size_c,\n",
    "    size_t=size_t,\n",
    "    level_count=level_count,\n",
    "    d_type=dtype,\n",
    "    parent=root)\n",
    "print(f'Levels: {levels}')\n",
    "raw_pixels.add_group_metadata(root, None, levels)\n"
   ]
  },
  {
   "cell_type": "code",
   "execution_count": null,
   "metadata": {},
   "outputs": [],
   "source": [
    "javabridge.kill_vm()"
   ]
  },
  {
   "cell_type": "code",
   "execution_count": null,
   "metadata": {},
   "outputs": [],
   "source": []
  }
 ],
 "metadata": {
  "kernelspec": {
   "display_name": "Python (tmp)",
   "language": "python",
   "name": "tmp"
  },
  "language_info": {
   "codemirror_mode": {
    "name": "ipython",
    "version": 3
   },
   "file_extension": ".py",
   "mimetype": "text/x-python",
   "name": "python",
   "nbconvert_exporter": "python",
   "pygments_lexer": "ipython3",
   "version": "3.7.9"
  }
 },
 "nbformat": 4,
 "nbformat_minor": 4
}
