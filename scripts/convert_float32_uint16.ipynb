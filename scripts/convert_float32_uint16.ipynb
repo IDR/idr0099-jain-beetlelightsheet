{
 "cells": [
  {
   "cell_type": "markdown",
   "metadata": {},
   "source": [
    "Convert TIFF with float32 to uint16, keep ImageJ metadata\n",
    "https://stackoverflow.com/a/20562090"
   ]
  },
  {
   "cell_type": "code",
   "execution_count": 1,
   "metadata": {},
   "outputs": [],
   "source": [
    "import numpy as np\n",
    "import os\n",
    "import tifffile"
   ]
  },
  {
   "cell_type": "code",
   "execution_count": 2,
   "metadata": {},
   "outputs": [
    {
     "name": "stdout",
     "output_type": "stream",
     "text": [
      "/uod/idr/filesets/idr0099-jain-beetlelightsheet/20201001-ftp/Akanksha_Jain_22-06-16_Tc-Squash-eGFP/TP0_Ch0_Ill0_Ang1,2,3,4,5.tif\n",
      "/uod/idr/filesets/idr0099-jain-beetlelightsheet/20201001-ftp/Akanksha_Jain_22-06-16_Tc-Squash-eGFP/TP1_Ch0_Ill0_Ang1,2,3,4,5.tif\n",
      "/uod/idr/filesets/idr0099-jain-beetlelightsheet/20201001-ftp/Akanksha_Jain_22-06-16_Tc-Squash-eGFP/TP2_Ch0_Ill0_Ang1,2,3,4,5.tif\n",
      "/uod/idr/filesets/idr0099-jain-beetlelightsheet/20201001-ftp/Akanksha_Jain_22-06-16_Tc-Squash-eGFP/TP3_Ch0_Ill0_Ang1,2,3,4,5.tif\n",
      "/uod/idr/filesets/idr0099-jain-beetlelightsheet/20201001-ftp/Akanksha_Jain_22-06-16_Tc-Squash-eGFP/TP4_Ch0_Ill0_Ang1,2,3,4,5.tif\n",
      "/uod/idr/filesets/idr0099-jain-beetlelightsheet/20201001-ftp/Akanksha_Jain_22-06-16_Tc-Squash-eGFP/TP5_Ch0_Ill0_Ang1,2,3,4,5.tif\n",
      "/uod/idr/filesets/idr0099-jain-beetlelightsheet/20201001-ftp/Akanksha_Jain_22-06-16_Tc-Squash-eGFP/TP6_Ch0_Ill0_Ang1,2,3,4,5.tif\n",
      "/uod/idr/filesets/idr0099-jain-beetlelightsheet/20201001-ftp/Akanksha_Jain_22-06-16_Tc-Squash-eGFP/TP7_Ch0_Ill0_Ang1,2,3,4,5.tif\n",
      "/uod/idr/filesets/idr0099-jain-beetlelightsheet/20201001-ftp/Akanksha_Jain_22-06-16_Tc-Squash-eGFP/TP8_Ch0_Ill0_Ang1,2,3,4,5.tif\n",
      "/uod/idr/filesets/idr0099-jain-beetlelightsheet/20201001-ftp/Akanksha_Jain_22-06-16_Tc-Squash-eGFP/TP9_Ch0_Ill0_Ang1,2,3,4,5.tif\n",
      "/uod/idr/filesets/idr0099-jain-beetlelightsheet/20201001-ftp/Akanksha_Jain_22-06-16_Tc-Squash-eGFP/TP10_Ch0_Ill0_Ang1,2,3,4,5.tif\n"
     ]
    }
   ],
   "source": [
    "filepath = ('/uod/idr/filesets/idr0099-jain-beetlelightsheet/20201001-ftp/'\n",
    "            'Akanksha_Jain_22-06-16_Tc-Squash-eGFP/TP{index}_Ch0_Ill0_Ang1,2,3,4,5.tif')\n",
    "\n",
    "for index in range(11):\n",
    "    f = filepath.format(index=index)\n",
    "    print(f)\n",
    "    with tifffile.TiffFile(f) as tif:\n",
    "        indata = tif.asarray()\n",
    "        inmeta = tif.imagej_metadata\n",
    "\n",
    "    outdata = indata.astype('uint16')\n",
    "    outmeta = inmeta.copy()\n",
    "    outmeta['min'] = np.uint16(outmeta['min'])\n",
    "    outmeta['max'] = np.uint16(outmeta['max'])\n",
    "\n",
    "    outfile = os.path.expanduser(f'~/out/{os.path.basename(f)}')\n",
    "    tifffile.imsave(outfile, outdata, imagej=True, metadata=outmeta)"
   ]
  },
  {
   "cell_type": "code",
   "execution_count": null,
   "metadata": {},
   "outputs": [],
   "source": []
  }
 ],
 "metadata": {
  "kernelspec": {
   "display_name": "Python 3",
   "language": "python",
   "name": "python3"
  },
  "language_info": {
   "codemirror_mode": {
    "name": "ipython",
    "version": 3
   },
   "file_extension": ".py",
   "mimetype": "text/x-python",
   "name": "python",
   "nbconvert_exporter": "python",
   "pygments_lexer": "ipython3",
   "version": "3.8.5"
  }
 },
 "nbformat": 4,
 "nbformat_minor": 4
}
