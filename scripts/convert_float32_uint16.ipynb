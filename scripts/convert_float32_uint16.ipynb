{
 "cells": [
  {
   "cell_type": "markdown",
   "metadata": {},
   "source": [
    "Convert TIFF with float32 to uint16\n",
    "https://pythonhosted.org/python-bioformats/#reading-images"
   ]
  },
  {
   "cell_type": "code",
   "execution_count": null,
   "metadata": {},
   "outputs": [],
   "source": [
    "import numpy as np\n",
    "import os\n",
    "import sys\n",
    "import javabridge\n",
    "import bioformats\n",
    "javabridge.start_vm(class_path=bioformats.JARS)"
   ]
  },
  {
   "cell_type": "code",
   "execution_count": null,
   "metadata": {},
   "outputs": [],
   "source": [
    "filepath = ('/uod/idr/filesets/idr0099-jain-beetlelightsheet/20201001-ftp/'\n",
    "            'Akanksha_Jain_22-06-16_Tc-Squash-eGFP/TP{index}_Ch0_Ill0_Ang1,2,3,4,5.tif')\n",
    "nplanes = 878"
   ]
  },
  {
   "cell_type": "code",
   "execution_count": null,
   "metadata": {},
   "outputs": [],
   "source": [
    "for index in range(11):\n",
    "    f = filepath.format(index=index)\n",
    "    print(os.path.basename(f))\n",
    "    for z in range(0, nplanes):\n",
    "        sys.stdout.write(f'{z} ')\n",
    "        p = bioformats.load_image(f, c=0, z=z, t=0, rescale=False)\n",
    "        q = p.astype(np.uint16)\n",
    "        outfile = os.path.expanduser(f'~/out/{os.path.basename(f)}').lower()\n",
    "        bioformats.write_image(outfile, q, bioformats.PT_UINT16, z=z, size_z=nplanes)\n",
    "    sys.stdout.write('\\n')"
   ]
  },
  {
   "cell_type": "code",
   "execution_count": null,
   "metadata": {},
   "outputs": [],
   "source": [
    "# Create zero placeholder image for missing timepoint\n",
    "p = bioformats.load_image(filepath.format(index=17), c=0, z=0, t=0, rescale=False)\n",
    "for z in range(0, nplanes):\n",
    "    sys.stdout.write(f'{z} ')\n",
    "    q = np.zeros_like(p, dtype=np.uint16)\n",
    "    outfile = os.path.expanduser(f'~/out/tp18_ch0_ill0_ang1,2,3,4,5.tif')\n",
    "    bioformats.write_image(outfile, q, bioformats.PT_UINT16, z=z, size_z=nplanes)\n",
    "    sys.stdout.write('\\n')"
   ]
  },
  {
   "cell_type": "code",
   "execution_count": null,
   "metadata": {},
   "outputs": [],
   "source": [
    "javabridge.kill_vm()"
   ]
  },
  {
   "cell_type": "code",
   "execution_count": null,
   "metadata": {},
   "outputs": [],
   "source": []
  }
 ],
 "metadata": {
  "kernelspec": {
   "display_name": "tmp",
   "language": "python",
   "name": "tmp"
  },
  "language_info": {
   "codemirror_mode": {
    "name": "ipython",
    "version": 3
   },
   "file_extension": ".py",
   "mimetype": "text/x-python",
   "name": "python",
   "nbconvert_exporter": "python",
   "pygments_lexer": "ipython3",
   "version": "3.7.9"
  }
 },
 "nbformat": 4,
 "nbformat_minor": 4
}
